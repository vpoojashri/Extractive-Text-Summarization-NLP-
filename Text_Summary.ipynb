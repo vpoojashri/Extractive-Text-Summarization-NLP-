{
  "nbformat": 4,
  "nbformat_minor": 0,
  "metadata": {
    "colab": {
      "name": "Text Summary.ipynb",
      "provenance": [],
      "collapsed_sections": []
    },
    "kernelspec": {
      "name": "python3",
      "display_name": "Python 3"
    },
    "language_info": {
      "name": "python"
    }
  },
  "cells": [
    {
      "cell_type": "code",
      "execution_count": null,
      "metadata": {
        "id": "6EyrQj53XY6m"
      },
      "outputs": [],
      "source": [
        "!pip install -U spacy"
      ]
    },
    {
      "cell_type": "code",
      "source": [
        "!python -m spacy download en_core_web_sm"
      ],
      "metadata": {
        "id": "7D8yz11iXnkg"
      },
      "execution_count": null,
      "outputs": []
    },
    {
      "cell_type": "code",
      "source": [
        "import nltk\n",
        "nltk.download('punkt')\n",
        "nltk.download('wordnet')\n",
        "nltk.download('stopwords')"
      ],
      "metadata": {
        "id": "RZY6hwAeZhs_"
      },
      "execution_count": null,
      "outputs": []
    },
    {
      "cell_type": "code",
      "source": [
        "text=open(\"/content/brihadeeswara.txt\",\"r\")\n",
        "text.read()"
      ],
      "metadata": {
        "colab": {
          "base_uri": "https://localhost:8080/",
          "height": 167
        },
        "id": "DZgTXvuG1bDj",
        "outputId": "cab3322a-d600-4031-974a-43e369516a7a"
      },
      "execution_count": 30,
      "outputs": [
        {
          "output_type": "execute_result",
          "data": {
            "text/plain": [
              "'Brihadeeshwara Temple (Peruvudaiyar Kovil) is a Hindu temple dedicated to Shiva located in Thanjavur in the Indian state of Tamil Nadu. It is also known as Periya Kovil, RajaRajeswara Temple and Rajarajesvaram. It is one of the largest temples in India and is an example of Dravidian architecture during the Chola period. Built by emperor Raja Raja Chola I and completed in 1010 AD, the temple turned 1000 years old in 2010. The temple is part of the UNESCO World Heritage Site known as the \"Great Living Chola Temples\", with the other two being the Brihadeeswarar Temple, Gangaikonda Cholapuram andAiravatesvara temple.\\n\\nbig-temple-thanjavur\\n\\nThe temple stands amidst fortified walls that were probably added in the 16th century. The vimanam (temple tower) is 216 ft (66 m) high and is the tallest in the world. The Kumbam (the apex or the bulbous structure on the top) of the temple is carved out of a single rock and weighs around 80 tons. There is a big statue of Nandi (sacred bull), carved out of a single rock measuring about 16 ft (4.9 m) long and 13 ft (4.0 m) high at the entrance. The entire temple structure is made out of granite, the nearest sources of which are about 60 km to the west of temple. The temple is one of the most visited tourist attractions in Tamil Nadu.\\n\\nbig-temple-thanjavur\\n\\nTemple Timeline\\nThe much celebrated \\'Ponnambalam\\' (temple with golden roof) at Thillai (Chidambaram) was just a few hours of journey away. Thiruvarur, the most important \\'Sapta Vitanka Sthalam’, which had the patronage of the Cholas right from the days of Manuneedhi Cholan and Musukuntha Cholan, was also nearby. So were numerous temples referred to as \\'paadal Petra Sthalangals\\' - temples where the Saivite saints Appar, Sundarar, Sambandhar and Manickavasagar had sung Thevaram hymns (religious hymns praising the deeds of Lord Shiva). Then, what made Rajaraja Cholan build a massive temple in his capital city?\\n\\nFew centuries back, the Pallavas had given a new dimension to art and architecture. Under their patronage rose the majestic Rathas, Shore Temple and Yali Caves at Mamallapuram. Rajasimha Pallavan built two splendid temples in Kanchipuram \\'Paramesvara Vinnagaram\\' and \\'Kailasanathar Kovil\\'. The latter, dedicated to Lord Siva, held Rajaraja Cholan\\'s attention. He called it \\'kachchipettu Periya Thali\\' (The Big Temple of Kanchipuram). Rajaraja Cholan\\'s dreams and aspirations were always huge. The visionary he was in all matters, there is no wonder that he envisaged a huge temple to celebrate the power of divinity.\\n\\nMany a people, have wondered why he chose to build an imposing monument. Did he want to showcase the power and might of his empire by building something colossal? Did he want to stamp his authority and tell the world, \\'Look what I have accomplished?\\' Did he want to get rid of sins wrought by years of warfare or get a magical cure to a disease of unknown origin, as some people claim? May be the reason was simple. He wanted to show the whole world the towering presence of God that is everlasting against human life that is highly evanescent.\\n\\n'"
            ],
            "application/vnd.google.colaboratory.intrinsic+json": {
              "type": "string"
            }
          },
          "metadata": {},
          "execution_count": 30
        }
      ]
    },
    {
      "cell_type": "code",
      "source": [
        "with open(\"/content/brihadeeswara.txt\", \"r\", encoding='utf-8-sig') as f:\n",
        "    text = f.read()"
      ],
      "metadata": {
        "id": "FDRvFFJdHQ4h"
      },
      "execution_count": 31,
      "outputs": []
    },
    {
      "cell_type": "code",
      "source": [
        "type(text)"
      ],
      "metadata": {
        "colab": {
          "base_uri": "https://localhost:8080/"
        },
        "id": "BhhgJVvwHFuH",
        "outputId": "81d44830-2f39-49de-e347-82a300d348bc"
      },
      "execution_count": 32,
      "outputs": [
        {
          "output_type": "execute_result",
          "data": {
            "text/plain": [
              "str"
            ]
          },
          "metadata": {},
          "execution_count": 32
        }
      ]
    },
    {
      "cell_type": "markdown",
      "source": [
        "Lowercase"
      ],
      "metadata": {
        "id": "MOPcnwJR4RCF"
      }
    },
    {
      "cell_type": "code",
      "source": [
        "text=text.lower()\n",
        "text"
      ],
      "metadata": {
        "colab": {
          "base_uri": "https://localhost:8080/",
          "height": 167
        },
        "id": "kD6SNm8rMdUw",
        "outputId": "c4d23dba-7967-4d64-c090-81d3960845f5"
      },
      "execution_count": 33,
      "outputs": [
        {
          "output_type": "execute_result",
          "data": {
            "text/plain": [
              "'brihadeeshwara temple (peruvudaiyar kovil) is a hindu temple dedicated to shiva located in thanjavur in the indian state of tamil nadu. it is also known as periya kovil, rajarajeswara temple and rajarajesvaram. it is one of the largest temples in india and is an example of dravidian architecture during the chola period. built by emperor raja raja chola i and completed in 1010 ad, the temple turned 1000 years old in 2010. the temple is part of the unesco world heritage site known as the \"great living chola temples\", with the other two being the brihadeeswarar temple, gangaikonda cholapuram andairavatesvara temple.\\n\\nbig-temple-thanjavur\\n\\nthe temple stands amidst fortified walls that were probably added in the 16th century. the vimanam (temple tower) is 216 ft (66 m) high and is the tallest in the world. the kumbam (the apex or the bulbous structure on the top) of the temple is carved out of a single rock and weighs around 80 tons. there is a big statue of nandi (sacred bull), carved out of a single rock measuring about 16 ft (4.9 m) long and 13 ft (4.0 m) high at the entrance. the entire temple structure is made out of granite, the nearest sources of which are about 60 km to the west of temple. the temple is one of the most visited tourist attractions in tamil nadu.\\n\\nbig-temple-thanjavur\\n\\ntemple timeline\\nthe much celebrated \\'ponnambalam\\' (temple with golden roof) at thillai (chidambaram) was just a few hours of journey away. thiruvarur, the most important \\'sapta vitanka sthalam’, which had the patronage of the cholas right from the days of manuneedhi cholan and musukuntha cholan, was also nearby. so were numerous temples referred to as \\'paadal petra sthalangals\\' - temples where the saivite saints appar, sundarar, sambandhar and manickavasagar had sung thevaram hymns (religious hymns praising the deeds of lord shiva). then, what made rajaraja cholan build a massive temple in his capital city?\\n\\nfew centuries back, the pallavas had given a new dimension to art and architecture. under their patronage rose the majestic rathas, shore temple and yali caves at mamallapuram. rajasimha pallavan built two splendid temples in kanchipuram \\'paramesvara vinnagaram\\' and \\'kailasanathar kovil\\'. the latter, dedicated to lord siva, held rajaraja cholan\\'s attention. he called it \\'kachchipettu periya thali\\' (the big temple of kanchipuram). rajaraja cholan\\'s dreams and aspirations were always huge. the visionary he was in all matters, there is no wonder that he envisaged a huge temple to celebrate the power of divinity.\\n\\nmany a people, have wondered why he chose to build an imposing monument. did he want to showcase the power and might of his empire by building something colossal? did he want to stamp his authority and tell the world, \\'look what i have accomplished?\\' did he want to get rid of sins wrought by years of warfare or get a magical cure to a disease of unknown origin, as some people claim? may be the reason was simple. he wanted to show the whole world the towering presence of god that is everlasting against human life that is highly evanescent.\\n\\n'"
            ],
            "application/vnd.google.colaboratory.intrinsic+json": {
              "type": "string"
            }
          },
          "metadata": {},
          "execution_count": 33
        }
      ]
    },
    {
      "cell_type": "markdown",
      "source": [
        "Removing stopwords"
      ],
      "metadata": {
        "id": "MFW51Epg4WQ_"
      }
    },
    {
      "cell_type": "code",
      "source": [
        "from nltk.corpus import stopwords\n",
        "from nltk import word_tokenize\n",
        "stop_words = set(stopwords.words(\"english\"))\n",
        "sw=list(stop_words)\n",
        "\n",
        "def sw_removal(j):\n",
        "  word_token=word_tokenize(j)\n",
        "  s=\" \".join( [i for i in word_token if i not in sw])\n",
        "  return s\n",
        "text=[sw_removal(j) for j in text.split(\" \")]"
      ],
      "metadata": {
        "id": "Zcp6FjPVQZw3"
      },
      "execution_count": 34,
      "outputs": []
    },
    {
      "cell_type": "markdown",
      "source": [
        "Removing Punctuations"
      ],
      "metadata": {
        "id": "XaTfSeWz4bn3"
      }
    },
    {
      "cell_type": "code",
      "source": [
        "import string \n",
        "result = string.punctuation \n",
        "\n",
        "r=list(result)+[\"1\",\"2\",\"3\",\"4\",\"5\",\"6\",\"7\",\"8\",\"9\",\"0\"]\n",
        "r.remove(\".\")\n"
      ],
      "metadata": {
        "id": "5sy4hXk2Xrmb"
      },
      "execution_count": 35,
      "outputs": []
    },
    {
      "cell_type": "code",
      "source": [
        "def pun_removal(j):\n",
        "  word_token=word_tokenize(j)\n",
        "  p=\" \".join(i for i in word_token if i not in r)\n",
        "  return p\n",
        "text=[pun_removal(j) for j in text]"
      ],
      "metadata": {
        "id": "RClImLfrQ4lU"
      },
      "execution_count": 36,
      "outputs": []
    },
    {
      "cell_type": "code",
      "source": [
        "text=\" \".join(text)"
      ],
      "metadata": {
        "id": "50juBKt9XQO4"
      },
      "execution_count": 37,
      "outputs": []
    },
    {
      "cell_type": "markdown",
      "source": [
        "Removing extra space"
      ],
      "metadata": {
        "id": "yxI6w9lA4nSn"
      }
    },
    {
      "cell_type": "code",
      "source": [
        "import re\n",
        "text=re.sub(' +', ' ', text)\n",
        "text"
      ],
      "metadata": {
        "colab": {
          "base_uri": "https://localhost:8080/",
          "height": 167
        },
        "id": "OOWod8lccex2",
        "outputId": "6c0c945b-d0fa-4499-a0fa-ff9764457d35"
      },
      "execution_count": 38,
      "outputs": [
        {
          "output_type": "execute_result",
          "data": {
            "text/plain": [
              "\"brihadeeshwara temple peruvudaiyar kovil hindu temple dedicated shiva located thanjavur indian state tamil nadu . also known periya kovil rajarajeswara temple rajarajesvaram . one largest temples india example dravidian architecture chola period . built emperor raja raja chola completed 1010 ad temple turned 1000 years old 2010 . temple part unesco world heritage site known `` great living chola temples `` two brihadeeswarar temple gangaikonda cholapuram andairavatesvara temple . big-temple-thanjavur temple stands amidst fortified walls probably added 16th century . vimanam temple tower 216 ft 66 high tallest world . kumbam apex bulbous structure top temple carved single rock weighs around 80 tons . big statue nandi sacred bull carved single rock measuring 16 ft 4.9 long 13 ft 4.0 high entrance . entire temple structure made granite nearest sources 60 km west temple . temple one visited tourist attractions tamil nadu . big-temple-thanjavur temple timeline much celebrated 'ponnambalam temple golden roof thillai chidambaram hours journey away . thiruvarur important 'sapta vitanka sthalam ’ patronage cholas right days manuneedhi cholan musukuntha cholan also nearby . numerous temples referred 'paadal petra sthalangals temples saivite saints appar sundarar sambandhar manickavasagar sung thevaram hymns religious hymns praising deeds lord shiva . made rajaraja cholan build massive temple capital city centuries back pallavas given new dimension art architecture . patronage rose majestic rathas shore temple yali caves mamallapuram . rajasimha pallavan built two splendid temples kanchipuram 'paramesvara vinnagaram 'kailasanathar kovil . latter dedicated lord siva held rajaraja cholan 's attention . called 'kachchipettu periya thali big temple kanchipuram . rajaraja cholan 's dreams aspirations always huge . visionary matters wonder envisaged huge temple celebrate power divinity . many people wondered chose build imposing monument . want showcase power might empire building something colossal want stamp authority tell world 'look accomplished want get rid sins wrought years warfare get magical cure disease unknown origin people claim may reason simple . wanted show whole world towering presence god everlasting human life highly evanescent .\""
            ],
            "application/vnd.google.colaboratory.intrinsic+json": {
              "type": "string"
            }
          },
          "metadata": {},
          "execution_count": 38
        }
      ]
    },
    {
      "cell_type": "code",
      "source": [
        "text=text.strip()"
      ],
      "metadata": {
        "id": "aNZ9uth67fWK"
      },
      "execution_count": 39,
      "outputs": []
    },
    {
      "cell_type": "code",
      "source": [
        "word={}\n",
        "for i in text.split(\" \"):\n",
        "  if i not in word.keys():\n",
        "    word[i]=1\n",
        "  else:\n",
        "    word[i]+=1  \n",
        "print(word)  "
      ],
      "metadata": {
        "colab": {
          "base_uri": "https://localhost:8080/"
        },
        "id": "MX0AX3MqfJk5",
        "outputId": "cd1e56ad-6a3f-424d-b3ad-56d5f3442a87"
      },
      "execution_count": 40,
      "outputs": [
        {
          "output_type": "stream",
          "name": "stdout",
          "text": [
            "{'brihadeeshwara': 1, 'temple': 19, 'peruvudaiyar': 1, 'kovil': 3, 'hindu': 1, 'dedicated': 2, 'shiva': 2, 'located': 1, 'thanjavur': 1, 'indian': 1, 'state': 1, 'tamil': 2, 'nadu': 2, '.': 24, 'also': 2, 'known': 2, 'periya': 2, 'rajarajeswara': 1, 'rajarajesvaram': 1, 'one': 2, 'largest': 1, 'temples': 5, 'india': 1, 'example': 1, 'dravidian': 1, 'architecture': 2, 'chola': 3, 'period': 1, 'built': 2, 'emperor': 1, 'raja': 2, 'completed': 1, '1010': 1, 'ad': 1, 'turned': 1, '1000': 1, 'years': 2, 'old': 1, '2010': 1, 'part': 1, 'unesco': 1, 'world': 4, 'heritage': 1, 'site': 1, '``': 2, 'great': 1, 'living': 1, 'two': 2, 'brihadeeswarar': 1, 'gangaikonda': 1, 'cholapuram': 1, 'andairavatesvara': 1, 'big-temple-thanjavur': 2, 'stands': 1, 'amidst': 1, 'fortified': 1, 'walls': 1, 'probably': 1, 'added': 1, '16th': 1, 'century': 1, 'vimanam': 1, 'tower': 1, '216': 1, 'ft': 3, '66': 1, 'high': 2, 'tallest': 1, 'kumbam': 1, 'apex': 1, 'bulbous': 1, 'structure': 2, 'top': 1, 'carved': 2, 'single': 2, 'rock': 2, 'weighs': 1, 'around': 1, '80': 1, 'tons': 1, 'big': 2, 'statue': 1, 'nandi': 1, 'sacred': 1, 'bull': 1, 'measuring': 1, '16': 1, '4.9': 1, 'long': 1, '13': 1, '4.0': 1, 'entrance': 1, 'entire': 1, 'made': 2, 'granite': 1, 'nearest': 1, 'sources': 1, '60': 1, 'km': 1, 'west': 1, 'visited': 1, 'tourist': 1, 'attractions': 1, 'timeline': 1, 'much': 1, 'celebrated': 1, \"'ponnambalam\": 1, 'golden': 1, 'roof': 1, 'thillai': 1, 'chidambaram': 1, 'hours': 1, 'journey': 1, 'away': 1, 'thiruvarur': 1, 'important': 1, \"'sapta\": 1, 'vitanka': 1, 'sthalam': 1, '’': 1, 'patronage': 2, 'cholas': 1, 'right': 1, 'days': 1, 'manuneedhi': 1, 'cholan': 5, 'musukuntha': 1, 'nearby': 1, 'numerous': 1, 'referred': 1, \"'paadal\": 1, 'petra': 1, 'sthalangals': 1, 'saivite': 1, 'saints': 1, 'appar': 1, 'sundarar': 1, 'sambandhar': 1, 'manickavasagar': 1, 'sung': 1, 'thevaram': 1, 'hymns': 2, 'religious': 1, 'praising': 1, 'deeds': 1, 'lord': 2, 'rajaraja': 3, 'build': 2, 'massive': 1, 'capital': 1, 'city': 1, 'centuries': 1, 'back': 1, 'pallavas': 1, 'given': 1, 'new': 1, 'dimension': 1, 'art': 1, 'rose': 1, 'majestic': 1, 'rathas': 1, 'shore': 1, 'yali': 1, 'caves': 1, 'mamallapuram': 1, 'rajasimha': 1, 'pallavan': 1, 'splendid': 1, 'kanchipuram': 2, \"'paramesvara\": 1, 'vinnagaram': 1, \"'kailasanathar\": 1, 'latter': 1, 'siva': 1, 'held': 1, \"'s\": 2, 'attention': 1, 'called': 1, \"'kachchipettu\": 1, 'thali': 1, 'dreams': 1, 'aspirations': 1, 'always': 1, 'huge': 2, 'visionary': 1, 'matters': 1, 'wonder': 1, 'envisaged': 1, 'celebrate': 1, 'power': 2, 'divinity': 1, 'many': 1, 'people': 2, 'wondered': 1, 'chose': 1, 'imposing': 1, 'monument': 1, 'want': 3, 'showcase': 1, 'might': 1, 'empire': 1, 'building': 1, 'something': 1, 'colossal': 1, 'stamp': 1, 'authority': 1, 'tell': 1, \"'look\": 1, 'accomplished': 1, 'get': 2, 'rid': 1, 'sins': 1, 'wrought': 1, 'warfare': 1, 'magical': 1, 'cure': 1, 'disease': 1, 'unknown': 1, 'origin': 1, 'claim': 1, 'may': 1, 'reason': 1, 'simple': 1, 'wanted': 1, 'show': 1, 'whole': 1, 'towering': 1, 'presence': 1, 'god': 1, 'everlasting': 1, 'human': 1, 'life': 1, 'highly': 1, 'evanescent': 1}\n"
          ]
        }
      ]
    },
    {
      "cell_type": "markdown",
      "source": [
        "Normalizing the words"
      ],
      "metadata": {
        "id": "55nn_qbFGb80"
      }
    },
    {
      "cell_type": "code",
      "source": [
        "for words in word:\n",
        "  word[words]=word[words]/max(word.values())"
      ],
      "metadata": {
        "id": "fh8jCeR27X6j"
      },
      "execution_count": 41,
      "outputs": []
    },
    {
      "cell_type": "code",
      "source": [
        "from nltk import sent_tokenize\n",
        "sentence_token=sent_tokenize(text)\n",
        "sentence_token"
      ],
      "metadata": {
        "colab": {
          "base_uri": "https://localhost:8080/"
        },
        "id": "S1l-HVmyvFLd",
        "outputId": "c187f637-0533-43c2-e849-e609907ccb78"
      },
      "execution_count": 42,
      "outputs": [
        {
          "output_type": "execute_result",
          "data": {
            "text/plain": [
              "['brihadeeshwara temple peruvudaiyar kovil hindu temple dedicated shiva located thanjavur indian state tamil nadu .',\n",
              " 'also known periya kovil rajarajeswara temple rajarajesvaram .',\n",
              " 'one largest temples india example dravidian architecture chola period .',\n",
              " 'built emperor raja raja chola completed 1010 ad temple turned 1000 years old 2010 . temple part unesco world heritage site known `` great living chola temples `` two brihadeeswarar temple gangaikonda cholapuram andairavatesvara temple .',\n",
              " 'big-temple-thanjavur temple stands amidst fortified walls probably added 16th century .',\n",
              " 'vimanam temple tower 216 ft 66 high tallest world .',\n",
              " 'kumbam apex bulbous structure top temple carved single rock weighs around 80 tons .',\n",
              " 'big statue nandi sacred bull carved single rock measuring 16 ft 4.9 long 13 ft 4.0 high entrance .',\n",
              " 'entire temple structure made granite nearest sources 60 km west temple .',\n",
              " 'temple one visited tourist attractions tamil nadu .',\n",
              " \"big-temple-thanjavur temple timeline much celebrated 'ponnambalam temple golden roof thillai chidambaram hours journey away .\",\n",
              " \"thiruvarur important 'sapta vitanka sthalam ’ patronage cholas right days manuneedhi cholan musukuntha cholan also nearby .\",\n",
              " \"numerous temples referred 'paadal petra sthalangals temples saivite saints appar sundarar sambandhar manickavasagar sung thevaram hymns religious hymns praising deeds lord shiva .\",\n",
              " 'made rajaraja cholan build massive temple capital city centuries back pallavas given new dimension art architecture .',\n",
              " 'patronage rose majestic rathas shore temple yali caves mamallapuram .',\n",
              " \"rajasimha pallavan built two splendid temples kanchipuram 'paramesvara vinnagaram 'kailasanathar kovil .\",\n",
              " \"latter dedicated lord siva held rajaraja cholan 's attention .\",\n",
              " \"called 'kachchipettu periya thali big temple kanchipuram .\",\n",
              " \"rajaraja cholan 's dreams aspirations always huge .\",\n",
              " 'visionary matters wonder envisaged huge temple celebrate power divinity .',\n",
              " 'many people wondered chose build imposing monument .',\n",
              " \"want showcase power might empire building something colossal want stamp authority tell world 'look accomplished want get rid sins wrought years warfare get magical cure disease unknown origin people claim may reason simple .\",\n",
              " 'wanted show whole world towering presence god everlasting human life highly evanescent .']"
            ]
          },
          "metadata": {},
          "execution_count": 42
        }
      ]
    },
    {
      "cell_type": "code",
      "source": [
        "sent_score={}\n",
        "for sent in sentence_token:\n",
        "  wordtoken=word_tokenize(sent)\n",
        "  for words in wordtoken:\n",
        "    if words in word.keys():\n",
        "      if sent not in sent_score.keys():\n",
        "        sent_score[sent]=word[words]\n",
        "      else:\n",
        "         sent_score[sent]+=word[words]\n"
      ],
      "metadata": {
        "id": "Rj8zgIGZitZ4"
      },
      "execution_count": 44,
      "outputs": []
    },
    {
      "cell_type": "code",
      "source": [
        "sent_score"
      ],
      "metadata": {
        "colab": {
          "base_uri": "https://localhost:8080/"
        },
        "id": "fYy_J3FTk8nm",
        "outputId": "fd1d6926-f4c1-420f-89a2-c44c3508356b"
      },
      "execution_count": 45,
      "outputs": [
        {
          "output_type": "execute_result",
          "data": {
            "text/plain": [
              "{'also known periya kovil rajarajeswara temple rajarajesvaram .': 3.516666666666667,\n",
              " 'big statue nandi sacred bull carved single rock measuring 16 ft 4.9 long 13 ft 4.0 high entrance .': 6.400000000000001,\n",
              " 'big-temple-thanjavur temple stands amidst fortified walls probably added 16th century .': 3.791666666666667,\n",
              " \"big-temple-thanjavur temple timeline much celebrated 'ponnambalam temple golden roof thillai chidambaram hours journey away .\": 5.1833333333333345,\n",
              " 'brihadeeshwara temple peruvudaiyar kovil hindu temple dedicated shiva located thanjavur indian state tamil nadu .': 3.3333333333333326,\n",
              " 'built emperor raja raja chola completed 1010 ad temple turned 1000 years old 2010 . temple part unesco world heritage site known `` great living chola temples `` two brihadeeswarar temple gangaikonda cholapuram andairavatesvara temple .': 14.966666666666663,\n",
              " \"called 'kachchipettu periya thali big temple kanchipuram .\": 4.258333333333333,\n",
              " 'entire temple structure made granite nearest sources 60 km west temple .': 4.783333333333333,\n",
              " 'kumbam apex bulbous structure top temple carved single rock weighs around 80 tons .': 4.991666666666667,\n",
              " \"latter dedicated lord siva held rajaraja cholan 's attention .\": 5.75,\n",
              " 'made rajaraja cholan build massive temple capital city centuries back pallavas given new dimension art architecture .': 8.591666666666665,\n",
              " 'many people wondered chose build imposing monument .': 4.0,\n",
              " \"numerous temples referred 'paadal petra sthalangals temples saivite saints appar sundarar sambandhar manickavasagar sung thevaram hymns religious hymns praising deeds lord shiva .\": 10.416666666666666,\n",
              " 'one largest temples india example dravidian architecture chola period .': 4.4,\n",
              " 'patronage rose majestic rathas shore temple yali caves mamallapuram .': 4.525,\n",
              " \"rajaraja cholan 's dreams aspirations always huge .\": 5.333333333333334,\n",
              " \"rajasimha pallavan built two splendid temples kanchipuram 'paramesvara vinnagaram 'kailasanathar kovil .\": 5.591666666666666,\n",
              " 'temple one visited tourist attractions tamil nadu .': 2.958333333333333,\n",
              " \"thiruvarur important 'sapta vitanka sthalam ’ patronage cholas right days manuneedhi cholan musukuntha cholan also nearby .\": 6.466666666666668,\n",
              " 'vimanam temple tower 216 ft 66 high tallest world .': 4.591666666666667,\n",
              " 'visionary matters wonder envisaged huge temple celebrate power divinity .': 5.125,\n",
              " \"want showcase power might empire building something colossal want stamp authority tell world 'look accomplished want get rid sins wrought years warfare get magical cure disease unknown origin people claim may reason simple .\": 27.033333333333335,\n",
              " 'wanted show whole world towering presence god everlasting human life highly evanescent .': 12.8}"
            ]
          },
          "metadata": {},
          "execution_count": 45
        }
      ]
    },
    {
      "cell_type": "code",
      "source": [
        "from heapq import nlargest\n",
        "sel_len=int(len(sentence_token)*0.3)\n",
        "sel_len"
      ],
      "metadata": {
        "colab": {
          "base_uri": "https://localhost:8080/"
        },
        "id": "r6hXFtj8ZG70",
        "outputId": "cff4f3ca-c7e9-4bbf-f0c2-0744205cf07c"
      },
      "execution_count": 46,
      "outputs": [
        {
          "output_type": "execute_result",
          "data": {
            "text/plain": [
              "6"
            ]
          },
          "metadata": {},
          "execution_count": 46
        }
      ]
    },
    {
      "cell_type": "code",
      "source": [
        "summary=nlargest(sel_len,sent_score,key=sent_score.get)\n",
        "\" \".join(map(str,summary))"
      ],
      "metadata": {
        "colab": {
          "base_uri": "https://localhost:8080/",
          "height": 165
        },
        "id": "O2IvxfzHdZfC",
        "outputId": "4f9d6f9b-d16a-415e-97b9-49a90ac64f63"
      },
      "execution_count": 47,
      "outputs": [
        {
          "output_type": "execute_result",
          "data": {
            "text/plain": [
              "\"want showcase power might empire building something colossal want stamp authority tell world 'look accomplished want get rid sins wrought years warfare get magical cure disease unknown origin people claim may reason simple . built emperor raja raja chola completed 1010 ad temple turned 1000 years old 2010 . temple part unesco world heritage site known `` great living chola temples `` two brihadeeswarar temple gangaikonda cholapuram andairavatesvara temple . wanted show whole world towering presence god everlasting human life highly evanescent . numerous temples referred 'paadal petra sthalangals temples saivite saints appar sundarar sambandhar manickavasagar sung thevaram hymns religious hymns praising deeds lord shiva . made rajaraja cholan build massive temple capital city centuries back pallavas given new dimension art architecture . thiruvarur important 'sapta vitanka sthalam ’ patronage cholas right days manuneedhi cholan musukuntha cholan also nearby .\""
            ],
            "application/vnd.google.colaboratory.intrinsic+json": {
              "type": "string"
            }
          },
          "metadata": {},
          "execution_count": 47
        }
      ]
    }
  ]
}